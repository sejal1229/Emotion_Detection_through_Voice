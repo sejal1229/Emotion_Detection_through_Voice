{
 "cells": [
  {
   "cell_type": "code",
   "execution_count": 2,
   "id": "34c06250",
   "metadata": {},
   "outputs": [
    {
     "name": "stdout",
     "output_type": "stream",
     "text": [
      "Tensorflow version: 2.15.0\n"
     ]
    }
   ],
   "source": [
    "import matplotlib.pyplot as plt\n",
    "from glob import glob\n",
    "import cv2\n",
    "import random\n",
    "import os\n",
    "%matplotlib inline\n",
    "\n",
    "from tensorflow.keras.preprocessing.image import ImageDataGenerator\n",
    "from tensorflow.keras.layers import Dense, Input, Dropout, Flatten, Conv2D\n",
    "from tensorflow.keras.layers import BatchNormalization, Activation, MaxPooling2D\n",
    "from tensorflow.keras.models import Model, Sequential\n",
    "from tensorflow.keras.optimizers import Adam\n",
    "from tensorflow.keras.callbacks import ModelCheckpoint, ReduceLROnPlateau\n",
    "from tensorflow.keras.utils import plot_model\n",
    "\n",
    "from IPython.display import SVG, Image\n",
    "import tensorflow as tf\n",
    "print(\"Tensorflow version:\", tf.__version__)"
   ]
  },
  {
   "cell_type": "markdown",
   "id": "72848fe0",
   "metadata": {},
   "source": [
    "**Preparing Dataset for training**"
   ]
  },
  {
   "cell_type": "code",
   "execution_count": 23,
   "id": "7eac9816",
   "metadata": {},
   "outputs": [
    {
     "name": "stdout",
     "output_type": "stream",
     "text": [
      "Found 28709 images belonging to 7 classes.\n",
      "Found 7178 images belonging to 7 classes.\n"
     ]
    }
   ],
   "source": [
    "img_size = 50\n",
    "batch_size = 64\n",
    "datagen_train = ImageDataGenerator()\n",
    "train_generator = datagen_train.flow_from_directory(r\"C:\\Users\\DELL\\Desktop\\Emotion_Dection\\Emotion_Detection\\Data\\train\",target_size = (img_size,img_size),\n",
    "                                                                     color_mode = \"grayscale\",\n",
    "                                                   batch_size = batch_size,\n",
    "                                                   class_mode = \"categorical\",\n",
    "                                                   shuffle = True)\n",
    "\n",
    "datagen_validation = ImageDataGenerator()\n",
    "validation_generator = datagen_train.flow_from_directory(r\"C:\\Users\\DELL\\Desktop\\Emotion_Dection\\Emotion_Detection\\Data\\test\",target_size = (img_size,img_size),\n",
    "                                                                     color_mode = \"grayscale\",\n",
    "                                                   batch_size = batch_size,\n",
    "                                                   class_mode = \"categorical\",\n",
    "                                                   shuffle = True)"
   ]
  },
  {
   "cell_type": "markdown",
   "id": "59038861",
   "metadata": {},
   "source": [
    "Defining Model"
   ]
  },
  {
   "cell_type": "code",
   "execution_count": 24,
   "id": "5e2ce4d5",
   "metadata": {},
   "outputs": [],
   "source": [
    "def Convolution(input_tensor, filters, kernel_size):\n",
    "    x = Conv2D(filters = filters, kernel_size = kernel_size, padding = \"same\")(input_tensor)\n",
    "    x = BatchNormalization()(x)\n",
    "    x = Activation('relu')(x)\n",
    "    x = MaxPooling2D(pool_size = (2,2))(x)\n",
    "    x = Dropout(0.25)(x)\n",
    "    \n",
    "    return x"
   ]
  },
  {
   "cell_type": "code",
   "execution_count": 25,
   "id": "91d3a512",
   "metadata": {},
   "outputs": [],
   "source": [
    "def Dense_f(input_tensor, nodes):\n",
    "    x = Dense(nodes)(input_tensor)\n",
    "    x = BatchNormalization()(x)\n",
    "    x = Activation('relu')(x)\n",
    "    x = Dropout(0.25)(x)\n",
    "    \n",
    "    return x"
   ]
  },
  {
   "cell_type": "code",
   "execution_count": 26,
   "id": "cb95cc6a",
   "metadata": {},
   "outputs": [],
   "source": [
    "def model_fer(input_shape):\n",
    "    inputs = Input(input_shape)\n",
    "    conv_1 = Convolution(inputs,32,(3,3))\n",
    "    conv_2 = Convolution(conv_1,64,(5,5))\n",
    "    conv_3 = Convolution(conv_2,128,(3,3))\n",
    "\n",
    "    flatten = Flatten()(conv_3)\n",
    "    \n",
    "    dense_1 = Dense_f(flatten,256)\n",
    "\n",
    "    output  = Dense(7, activation=\"softmax\")(dense_1)\n",
    "    model  =  Model(inputs=[inputs],outputs = [output])\n",
    "    \n",
    "    model.compile(loss=['categorical_crossentropy'] , optimizer = 'adam' , metrics =[\"accuracy\"])\n",
    "\n",
    "    return model"
   ]
  },
  {
   "cell_type": "code",
   "execution_count": 27,
   "id": "025608fe",
   "metadata": {},
   "outputs": [
    {
     "name": "stdout",
     "output_type": "stream",
     "text": [
      "Model: \"model_2\"\n",
      "_________________________________________________________________\n",
      " Layer (type)                Output Shape              Param #   \n",
      "=================================================================\n",
      " input_3 (InputLayer)        [(None, 48, 48, 1)]       0         \n",
      "                                                                 \n",
      " conv2d_6 (Conv2D)           (None, 48, 48, 32)        320       \n",
      "                                                                 \n",
      " batch_normalization_8 (Bat  (None, 48, 48, 32)        128       \n",
      " chNormalization)                                                \n",
      "                                                                 \n",
      " activation_8 (Activation)   (None, 48, 48, 32)        0         \n",
      "                                                                 \n",
      " max_pooling2d_6 (MaxPoolin  (None, 24, 24, 32)        0         \n",
      " g2D)                                                            \n",
      "                                                                 \n",
      " dropout_8 (Dropout)         (None, 24, 24, 32)        0         \n",
      "                                                                 \n",
      " conv2d_7 (Conv2D)           (None, 24, 24, 64)        51264     \n",
      "                                                                 \n",
      " batch_normalization_9 (Bat  (None, 24, 24, 64)        256       \n",
      " chNormalization)                                                \n",
      "                                                                 \n",
      " activation_9 (Activation)   (None, 24, 24, 64)        0         \n",
      "                                                                 \n",
      " max_pooling2d_7 (MaxPoolin  (None, 12, 12, 64)        0         \n",
      " g2D)                                                            \n",
      "                                                                 \n",
      " dropout_9 (Dropout)         (None, 12, 12, 64)        0         \n",
      "                                                                 \n",
      " conv2d_8 (Conv2D)           (None, 12, 12, 128)       73856     \n",
      "                                                                 \n",
      " batch_normalization_10 (Ba  (None, 12, 12, 128)       512       \n",
      " tchNormalization)                                               \n",
      "                                                                 \n",
      " activation_10 (Activation)  (None, 12, 12, 128)       0         \n",
      "                                                                 \n",
      " max_pooling2d_8 (MaxPoolin  (None, 6, 6, 128)         0         \n",
      " g2D)                                                            \n",
      "                                                                 \n",
      " dropout_10 (Dropout)        (None, 6, 6, 128)         0         \n",
      "                                                                 \n",
      " flatten_2 (Flatten)         (None, 4608)              0         \n",
      "                                                                 \n",
      " dense_4 (Dense)             (None, 256)               1179904   \n",
      "                                                                 \n",
      " batch_normalization_11 (Ba  (None, 256)               1024      \n",
      " tchNormalization)                                               \n",
      "                                                                 \n",
      " activation_11 (Activation)  (None, 256)               0         \n",
      "                                                                 \n",
      " dropout_11 (Dropout)        (None, 256)               0         \n",
      "                                                                 \n",
      " dense_5 (Dense)             (None, 7)                 1799      \n",
      "                                                                 \n",
      "=================================================================\n",
      "Total params: 1309063 (4.99 MB)\n",
      "Trainable params: 1308103 (4.99 MB)\n",
      "Non-trainable params: 960 (3.75 KB)\n",
      "_________________________________________________________________\n"
     ]
    }
   ],
   "source": [
    "model = model_fer((48,48,1))\n",
    "model.summary()"
   ]
  },
  {
   "cell_type": "markdown",
   "id": "dda26385",
   "metadata": {},
   "source": [
    "Initializing Model "
   ]
  },
  {
   "cell_type": "code",
   "execution_count": 28,
   "id": "9433f77a",
   "metadata": {},
   "outputs": [],
   "source": [
    "epochs = 20\n",
    "steps_per_epoch = train_generator.n//train_generator.batch_size\n",
    "validation_steps = validation_generator.n//validation_generator.batch_size\n",
    "\n",
    "checkpoint = ModelCheckpoint(\"model_weights.h5\", monitor  ='val_accuracy', save_weights_only = True, mode = 'max', verbose =1)\n",
    "callbacks = [checkpoint]"
   ]
  },
  {
   "cell_type": "markdown",
   "id": "b854b04a",
   "metadata": {},
   "source": [
    "Training Model"
   ]
  },
  {
   "cell_type": "code",
   "execution_count": 29,
   "id": "6db84e75",
   "metadata": {},
   "outputs": [
    {
     "name": "stdout",
     "output_type": "stream",
     "text": [
      "Epoch 1/20\n",
      "WARNING:tensorflow:From C:\\Users\\DELL\\anaconda3\\Lib\\site-packages\\keras\\src\\utils\\tf_utils.py:492: The name tf.ragged.RaggedTensorValue is deprecated. Please use tf.compat.v1.ragged.RaggedTensorValue instead.\n",
      "\n",
      "WARNING:tensorflow:From C:\\Users\\DELL\\anaconda3\\Lib\\site-packages\\keras\\src\\engine\\base_layer_utils.py:384: The name tf.executing_eagerly_outside_functions is deprecated. Please use tf.compat.v1.executing_eagerly_outside_functions instead.\n",
      "\n",
      "448/448 [==============================] - ETA: 0s - loss: 1.6812 - accuracy: 0.3591\n",
      "Epoch 1: saving model to model_weights.h5\n",
      "448/448 [==============================] - 466s 1s/step - loss: 1.6812 - accuracy: 0.3591 - val_loss: 1.6120 - val_accuracy: 0.3711\n",
      "Epoch 2/20\n",
      "448/448 [==============================] - ETA: 0s - loss: 1.3934 - accuracy: 0.4635\n",
      "Epoch 2: saving model to model_weights.h5\n",
      "448/448 [==============================] - 361s 805ms/step - loss: 1.3934 - accuracy: 0.4635 - val_loss: 1.4395 - val_accuracy: 0.4361\n",
      "Epoch 3/20\n",
      "448/448 [==============================] - ETA: 0s - loss: 1.2703 - accuracy: 0.5184\n",
      "Epoch 3: saving model to model_weights.h5\n",
      "448/448 [==============================] - 133s 296ms/step - loss: 1.2703 - accuracy: 0.5184 - val_loss: 1.2652 - val_accuracy: 0.5160\n",
      "Epoch 4/20\n",
      "448/448 [==============================] - ETA: 0s - loss: 1.2030 - accuracy: 0.5441\n",
      "Epoch 4: saving model to model_weights.h5\n",
      "448/448 [==============================] - 72s 161ms/step - loss: 1.2030 - accuracy: 0.5441 - val_loss: 1.1895 - val_accuracy: 0.5432\n",
      "Epoch 5/20\n",
      "448/448 [==============================] - ETA: 0s - loss: 1.1486 - accuracy: 0.5651\n",
      "Epoch 5: saving model to model_weights.h5\n",
      "448/448 [==============================] - 77s 172ms/step - loss: 1.1486 - accuracy: 0.5651 - val_loss: 1.2341 - val_accuracy: 0.5265\n",
      "Epoch 6/20\n",
      "448/448 [==============================] - ETA: 0s - loss: 1.0973 - accuracy: 0.5879\n",
      "Epoch 6: saving model to model_weights.h5\n",
      "448/448 [==============================] - 74s 165ms/step - loss: 1.0973 - accuracy: 0.5879 - val_loss: 1.2012 - val_accuracy: 0.5455\n",
      "Epoch 7/20\n",
      "448/448 [==============================] - ETA: 0s - loss: 1.0565 - accuracy: 0.6036\n",
      "Epoch 7: saving model to model_weights.h5\n",
      "448/448 [==============================] - 72s 161ms/step - loss: 1.0565 - accuracy: 0.6036 - val_loss: 1.1674 - val_accuracy: 0.5497\n",
      "Epoch 8/20\n",
      "448/448 [==============================] - ETA: 0s - loss: 1.0121 - accuracy: 0.6218\n",
      "Epoch 8: saving model to model_weights.h5\n",
      "448/448 [==============================] - 74s 165ms/step - loss: 1.0121 - accuracy: 0.6218 - val_loss: 1.1441 - val_accuracy: 0.5763\n",
      "Epoch 9/20\n",
      "448/448 [==============================] - ETA: 0s - loss: 0.9763 - accuracy: 0.6317\n",
      "Epoch 9: saving model to model_weights.h5\n",
      "448/448 [==============================] - 74s 166ms/step - loss: 0.9763 - accuracy: 0.6317 - val_loss: 1.1511 - val_accuracy: 0.5699\n",
      "Epoch 10/20\n",
      "448/448 [==============================] - ETA: 0s - loss: 0.9318 - accuracy: 0.6534\n",
      "Epoch 10: saving model to model_weights.h5\n",
      "448/448 [==============================] - 73s 164ms/step - loss: 0.9318 - accuracy: 0.6534 - val_loss: 1.0869 - val_accuracy: 0.5897\n",
      "Epoch 11/20\n",
      "448/448 [==============================] - ETA: 0s - loss: 0.8913 - accuracy: 0.6662\n",
      "Epoch 11: saving model to model_weights.h5\n",
      "448/448 [==============================] - 76s 170ms/step - loss: 0.8913 - accuracy: 0.6662 - val_loss: 1.1227 - val_accuracy: 0.5908\n",
      "Epoch 12/20\n",
      "448/448 [==============================] - ETA: 0s - loss: 0.8522 - accuracy: 0.6844\n",
      "Epoch 12: saving model to model_weights.h5\n",
      "448/448 [==============================] - 73s 163ms/step - loss: 0.8522 - accuracy: 0.6844 - val_loss: 1.1616 - val_accuracy: 0.5799\n",
      "Epoch 13/20\n",
      "448/448 [==============================] - ETA: 0s - loss: 0.8162 - accuracy: 0.6984\n",
      "Epoch 13: saving model to model_weights.h5\n",
      "448/448 [==============================] - 74s 164ms/step - loss: 0.8162 - accuracy: 0.6984 - val_loss: 1.1713 - val_accuracy: 0.5711\n",
      "Epoch 14/20\n",
      "448/448 [==============================] - ETA: 0s - loss: 0.7797 - accuracy: 0.7112\n",
      "Epoch 14: saving model to model_weights.h5\n",
      "448/448 [==============================] - 75s 167ms/step - loss: 0.7797 - accuracy: 0.7112 - val_loss: 1.1625 - val_accuracy: 0.5756\n",
      "Epoch 15/20\n",
      "448/448 [==============================] - ETA: 0s - loss: 0.7429 - accuracy: 0.7231\n",
      "Epoch 15: saving model to model_weights.h5\n",
      "448/448 [==============================] - 74s 164ms/step - loss: 0.7429 - accuracy: 0.7231 - val_loss: 1.1506 - val_accuracy: 0.5883\n",
      "Epoch 16/20\n",
      "448/448 [==============================] - ETA: 0s - loss: 0.7102 - accuracy: 0.7388\n",
      "Epoch 16: saving model to model_weights.h5\n",
      "448/448 [==============================] - 73s 164ms/step - loss: 0.7102 - accuracy: 0.7388 - val_loss: 1.1001 - val_accuracy: 0.6164\n",
      "Epoch 17/20\n",
      "448/448 [==============================] - ETA: 0s - loss: 0.6768 - accuracy: 0.7498\n",
      "Epoch 17: saving model to model_weights.h5\n",
      "448/448 [==============================] - 73s 164ms/step - loss: 0.6768 - accuracy: 0.7498 - val_loss: 1.1088 - val_accuracy: 0.6168\n",
      "Epoch 18/20\n",
      "448/448 [==============================] - ETA: 0s - loss: 0.6453 - accuracy: 0.7626\n",
      "Epoch 18: saving model to model_weights.h5\n",
      "448/448 [==============================] - 75s 167ms/step - loss: 0.6453 - accuracy: 0.7626 - val_loss: 1.2222 - val_accuracy: 0.5785\n",
      "Epoch 19/20\n",
      "448/448 [==============================] - ETA: 0s - loss: 0.6194 - accuracy: 0.7754\n",
      "Epoch 19: saving model to model_weights.h5\n",
      "448/448 [==============================] - 76s 169ms/step - loss: 0.6194 - accuracy: 0.7754 - val_loss: 1.1572 - val_accuracy: 0.6006\n",
      "Epoch 20/20\n",
      "448/448 [==============================] - ETA: 0s - loss: 0.5909 - accuracy: 0.7836\n",
      "Epoch 20: saving model to model_weights.h5\n",
      "448/448 [==============================] - 74s 166ms/step - loss: 0.5909 - accuracy: 0.7836 - val_loss: 1.1746 - val_accuracy: 0.6105\n"
     ]
    }
   ],
   "source": [
    "history = model.fit(\n",
    "x = train_generator,\n",
    "steps_per_epoch = steps_per_epoch,\n",
    "epochs = epochs,\n",
    "validation_data = validation_generator,\n",
    "validation_steps = validation_steps,\n",
    "callbacks = callbacks)"
   ]
  },
  {
   "cell_type": "markdown",
   "id": "cf65fa44",
   "metadata": {},
   "source": [
    "Model Evaluation"
   ]
  },
  {
   "cell_type": "code",
   "execution_count": 30,
   "id": "36948798",
   "metadata": {},
   "outputs": [
    {
     "name": "stdout",
     "output_type": "stream",
     "text": [
      "113/113 [==============================] - 160s 1s/step - loss: 1.1744 - accuracy: 0.6108\n"
     ]
    },
    {
     "data": {
      "text/plain": [
       "[1.174377202987671, 0.6107550859451294]"
      ]
     },
     "execution_count": 30,
     "metadata": {},
     "output_type": "execute_result"
    }
   ],
   "source": [
    "model.evaluate(validation_generator)"
   ]
  },
  {
   "cell_type": "markdown",
   "id": "2d292c7b",
   "metadata": {},
   "source": [
    "Plotting Loss"
   ]
  },
  {
   "cell_type": "code",
   "execution_count": 31,
   "id": "d5fbf83c",
   "metadata": {},
   "outputs": [
    {
     "data": {
      "image/png": "[encoded data removed]",
      "text/plain": [
       "<Figure size 640x480 with 1 Axes>"
      ]
     },
     "metadata": {},
     "output_type": "display_data"
    }
   ],
   "source": [
    "plt.plot(history.history['loss'])\n",
    "plt.plot(history.history['val_loss'])\n",
    "plt.title('Model Loss')\n",
    "plt.legend(['Train','Validation'],loc = 'upper left')\n",
    "plt.show()"
   ]
  },
  {
   "cell_type": "code",
   "execution_count": 32,
   "id": "4a3cf5cc",
   "metadata": {},
   "outputs": [
    {
     "data": {
      "image/png": "[encoded data removed]",
      "text/plain": [
       "<Figure size 640x480 with 1 Axes>"
      ]
     },
     "metadata": {},
     "output_type": "display_data"
    }
   ],
   "source": [
    "plt.plot(history.history['accuracy'])\n",
    "plt.plot(history.history['val_accuracy'])\n",
    "plt.title('Model Accuracy')\n",
    "plt.legend(['Train','Validation'],loc = 'upper left')\n",
    "plt.show()"
   ]
  },
  {
   "cell_type": "markdown",
   "id": "6fba1aad",
   "metadata": {},
   "source": [
    "Saving the model"
   ]
  },
  {
   "cell_type": "code",
   "execution_count": 33,
   "id": "b8a6a48c",
   "metadata": {},
   "outputs": [],
   "source": [
    "model_json = model.to_json()\n",
    "with open(\"model_a.json\",\"w\") as json_file:\n",
    "    json_file.write(model_json)"
   ]
  },
  {
   "cell_type": "code",
   "execution_count": null,
   "id": "172d0d38",
   "metadata": {},
   "outputs": [],
   "source": []
  }
 ],
 "metadata": {
  "kernelspec": {
   "display_name": "Python 3 (ipykernel)",
   "language": "python",
   "name": "python3"
  },
  "language_info": {
   "codemirror_mode": {
    "name": "ipython",
    "version": 3
   },
   "file_extension": ".py",
   "mimetype": "text/x-python",
   "name": "python",
   "nbconvert_exporter": "python",
   "pygments_lexer": "ipython3",
   "version": "3.11.5"
  }
 },
 "nbformat": 4,
 "nbformat_minor": 5
}
